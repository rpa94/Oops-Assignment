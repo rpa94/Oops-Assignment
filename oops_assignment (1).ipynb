{
  "nbformat": 4,
  "nbformat_minor": 0,
  "metadata": {
    "colab": {
      "provenance": []
    },
    "kernelspec": {
      "name": "python3",
      "display_name": "Python 3"
    },
    "language_info": {
      "name": "python"
    }
  },
  "cells": [
    {
      "cell_type": "markdown",
      "source": [
        "\n",
        "Python OOPs Question:\n",
        "\n",
        "Que.1 What is Object-Oriented Programming (OOP)\n",
        "\n",
        "Ans Object-Oriented Programming (OOP) is a programming paradigm that uses objects and classes to structure software programs. It aims to implement real-world entities like inheritance, hiding, polymorphism, etc., in programming. The main goal of OOP is to bind together the data and the functions that operate on them, ensuring that no other part of the code can access this data except through the define function.\n",
        "\n",
        "Que.2  What is a class in OOP.\n",
        "\n",
        "Ans. In Object-Oriented Programming (OOP), a class is a blueprint for creating objects. It defines a set of attributes (data) and methods (functions) that the objects created from the class will have. Classes enable modularity, reusability, and code organization, making complex systems easier to maintain\n",
        "\n",
        "Key Principles of a Class:\n",
        "\n",
        " * Attributes: These are variables that hold data specific to the class. For example, in a Car class, attributes might include model, color, and speed\n",
        "\n",
        " * Methods: These are functions that define the behavior of the class. For example, a Car class might have methods like accelerate and brake\n",
        "\n",
        " * Constructor: This is a special method that initializes the class object. It is called when a new object is created and assigns initial values to attributes\n",
        "\n",
        " * Encapsulation: This principle restricts direct access to some of the object's components, which can prevent the accidental modification of data\n",
        "\n",
        " * Inheritance: This allows a class to inherit attributes and methods from another class, promoting code reuse\n",
        "\n",
        " * Polymorphism: This allows objects of different classes to be treated as objects of a common superclass. It enables a single interface to represent different underlying forms (data types)\n",
        "\n",
        " Que.3  What is an object in OOP\n",
        "\n",
        " Ans The basic purpose of a Class is to identify the common attributes and behaviours and group them as an entity that can be reused again and again for similar purposes. The Objects are such entities that are created based on these classes to follow that purpose. All data members and member functions of the class can be accessed with the help of objects. When a class is defined, no memory is allocated, but memory is allocated when it is instantiated (i.e. an object is created).\n",
        "\n",
        " Que 4  What is the difference between abstraction and encapsulation.\n",
        "\n",
        " Ans. Encapsulation and abstraction are two fundamental concepts in object-oriented  programming (OOP). As a result, they play an essential role in the design and structure of classes and objects.\n",
        "\n",
        "Encapsulation:\n",
        "\n",
        "Encapsulation is the concept of bundling data (attributes) and methods (functions) that operate on that data into a single unit, known as a class. Direct access to some components of an object is restricted while controlled access is provided through methods. Objects should be designed to hide the internal implementation details and expose only what is needed to interact with them from the outside.\n",
        "\n",
        "In  Python, encapsulation is achieved by using access modifiers like private ('__') and protected ('_') to control the visibility of attributes and methods. However, Python enforces access control through convention rather than strict enforcement.\n",
        "\n",
        "Abstraction:\n",
        "\n",
        "Abstraction, on the other hand, is the process of simplifying complex reality by modeling classes based on essential properties and behaviors. It allows you to represent essential features of an object while hiding unnecessary details. It helps manage complexity by separating what an object does (methods) from how it achieves it (implementation details).\n",
        "\n",
        "\n",
        "Que 5  What are dunder methods in Python\n",
        "\n",
        "Ans Python Magic methods are the methods starting and ending with double underscores ‘__’. They are defined by built-in classes in Python and commonly used for operator overloading.\n",
        "\n",
        "They are also called Dunder methods, Dunder here means “Double Under (Underscores)”.\n",
        "\n",
        "Python Magic Methods\n",
        "Built in classes define many magic methods, dir() function can show you magic methods inherited by a class.\n",
        "\n",
        "Que.6 F Explain the concept of inheritance in OOP\n",
        "\n",
        "Ans Inheritance is a feature or a process in which, new classes are created from the existing classes. The new class created is called “derived class” or “child class” and the existing class is known as the “base class” or “parent class”. The derived class now is said to be inherited from the base class.\n",
        "\n",
        "When we say derived class inherits the base class, it means that the derived class inherits all the properties of the base class, without changing the properties of base class and may add new features to its own. These new features in the derived class will not affect the base class. The derived class is the specialized class for the base class.\n",
        "\n",
        "Sub Class: The class that inherits properties from another class is called Subclass or Derived Class.\n",
        "Super Class: The class whose properties are inherited by a subclass is called Base Class or Superclass.\n",
        "\n",
        "\n",
        "Que.7  What is polymorphism in OOP\n",
        "\n",
        "Ans Polymorphism is a foundational concept in programming that allows entities like functions, methods or operators to behave differently based on the type of data they are handling. Derived from Greek, the term literally means “many forms”.\n",
        "\n",
        "Python’s dynamic typing and duck typing make it inherently polymorphic. Functions, operators and even built-in objects like loops exhibit polymorphic behavior.\n",
        "\n",
        "Que.8  How is encapsulation achieved in Python\n",
        "\n",
        "Ans In Python, encapsulation refers to the bundling of data (attributes) and methods (functions) that operate on the data into a single unit, typically a class. It also restricts direct access to some components, which helps protect the integrity of the data and ensures proper usage.\n",
        "Encapsulation is the process of hiding the internal state of an object and requiring all interactions to be performed through an object’s methods. This approach:\n",
        "\n",
        " * Provides better control over data.\n",
        " * Prevents accidental modification of data.\n",
        " * Promotes modular programming.\n",
        "\n",
        " Que.9 What is a constructor in Python\n",
        "\n",
        " Ans. In Python, a constructor is a special method that is called automatically when an object is created from a class. Its main role is to initialize the object by setting up its attributes or state.\n",
        "\n",
        "The method __new__ is the constructor that creates a new instance of the class while __init__ is the initializer that sets up the instance’s attributes after creation. These methods work together to manage object creation and initialization.\n",
        "\n",
        "__new__ Method\n",
        "This method is responsible for creating a new instance of a class. It allocates memory and returns the new object. It is called before __init__.\n",
        "\n",
        "\n",
        "Que 10  What are class and static methods in Python\n",
        "\n",
        "Ans. The @classmethod decorator is a built-in function decorator that is an expression that gets evaluated after your function is defined. The result of that evaluation shadows your function definition. A class method receives the class as an implicit first argument, just like an instance method receives the instance\n",
        "\n",
        "Syntax Python Class Method:\n",
        "\n",
        "class C(object):\n",
        "  @classmethod\n",
        " def fun(cls, arg1, arg2, ...):\n",
        "       \n",
        "fun: function that needs to be converted into a class method\n",
        "returns: a class method for function.\n",
        "A class method is a method that is bound to the class and not the object of the class.\n",
        "They have the access to the state of the class as it takes a class parameter that points to the class and not the object instance.\n",
        "It can modify a class state that would apply across all the instances of the class. For example, it can modify a class variable that will be applicable to all the instances.\n",
        "What is the Static Method in Python?\n",
        "A static method does not receive an implicit first argument. A static method is also a method that is bound to the class and not the object of the class. This method can’t access or modify the class state. It is present in a class because it makes sense for the method to be present in class.\n",
        "\n",
        "Syntax Python Static Method:\n",
        "\n",
        "class C(object):\n",
        "  @staticmethod\n",
        "  def fun(arg1, arg2, ...):\n",
        "        ...\n",
        "returns: a static method for function fun.\n",
        "\n",
        "Que 11  What is method overloading in Python\n",
        "\n",
        "Ans. Two or more methods have the same name but different numbers of parameters or different types of parameters, or both. These methods are called overloaded methods and this is called method overloading.\n",
        "\n",
        "Like other languages (for example, method overloading in C++) do, python does not support method overloading by default. But there are different ways to achieve method overloading in Python.\n",
        "\n",
        "The problem with method overloading in Python is that we may overload the methods but can only use the latest defined method.\n",
        "\n",
        "\n",
        "Que 12 What is method overriding in OOP\n",
        "\n",
        "Ans. Method overriding is an ability of any object-oriented programming language that allows a subclass or child class to provide a specific implementation of a method that is already provided by one of its super-classes or parent classes. When a method in a subclass has the same name, the same parameters or signature, and same return type(or sub-type) as a method in its super-class, then the method in the subclass is said to override the method in the super-class.\n",
        "\n",
        "Que.13 What is a property decorator in Python\n",
        "\n",
        "Ans The @property decorator in Python is a built-in decorator that allows you to define methods in a class that act as getters, setters, and deleters for attributes. This decorator provides a Pythonic way to manage instance attributes by adding functionality to access and modify them without directly interacting with the attributes themselves\n",
        "\n",
        "Advantages of Using @property:\n",
        "\n",
        " * Concise and Readable Syntax: The syntax for defining properties is straightforward and easy to read.\n",
        "\n",
        " * Encapsulation: It allows you to encapsulate the internal representation of an attribute while providing a public interface to access and modify it.\n",
        "\n",
        " * Validation: You can add validation logic to ensure that the attribute values meet certain criteria before being set.\n",
        "\n",
        " * Backward Compatibility: You can change the internal implementation of a class without affecting the code that uses it\n",
        "\n",
        "\n",
        " Que 14 Why is polymorphism important in OOP\n",
        "\n",
        " Ans  Polymorphism offers several benefits that make it a valuable tool for software development. Some of the key advantages of polymorphism include:\n",
        "\n",
        " * Flexibility: Polymorphism allows developers to write code that can work with objects of different classes without knowing their specific types. This flexibility makes it easier to modify and extend existing code, as new classes can be added to a program without changing the existing codebase.\n",
        "\n",
        " * Reusability: Polymorphism promotes code reusability by enabling developers to write generic interfaces that can be implemented by multiple classes. This reduces code duplication and makes it easier to maintain and update software over time.\n",
        "\n",
        " * Modularity: Polymorphism helps to separate concerns in a program by allowing objects to be treated as instances of a common superclass. This promotes a modular design, where different components of a program can be developed and tested independently before being integrated into the final product.\n",
        "\n",
        " * Extensibility: Polymorphism makes it easier to extend and enhance a program by adding new classes and methods. Since objects of different classes can be treated as instances of a common superclass, developers can easily add new functionality without modifying existing code.\n",
        "\n",
        " * Polymorphism also promotes code readability and maintainability by reducing complexity and improving code organization. By using polymorphism, developers can write cleaner, more concise code that is easier to understand and debug.\n",
        "\n",
        "\n",
        " Que 15 What is an abstract class in Python\n",
        "\n",
        " Ans In Python, an abstract class is a class that cannot be instantiated on its own and is designed to be a blueprint for other classes. Abstract classes allow us to define methods that must be implemented by subclasses, ensuring a consistent interface while still allowing the subclasses to provide specific implementations.\n",
        "\n",
        "Abstract Base Classes in Python\n",
        "It defines methods that must be implemented by its subclasses, ensuring that the subclasses follow a consistent structure. ABCs allow you to define common interfaces that various subclasses can implement while enforcing a level of abstraction.\n",
        "\n",
        "Python provides the abc module to define ABCs and enforce the implementation of abstract methods in subclasses.\n",
        "\n",
        "Que 16  What are the advantages of OOP\n",
        "\n",
        "Ans OOP stands for Object-Oriented Programming. As you can guess from it’s name it breaks the program on the basis of the objects in it. It mainly works on Class, Object, Polymorphism, Abstraction, Encapsulation and Inheritance. Its aim is to bind together the data and functions to operate on them.\n",
        "\n",
        "Benefits of OOP:\n",
        "\n",
        "\n",
        " * We can build the programs from standard working modules that communicate with one another, rather than having to start writing the code from scratch which leads to saving of development time and higher productivity,\n",
        "\n",
        " * OOP language allows to break the program into the bit-sized problems that can be solved easily (one object at a time).\n",
        "\n",
        " * The new technology promises greater programmer productivity, better quality of software and lesser maintenance cost.\n",
        "\n",
        " * OOP systems can be easily upgraded from small to large systems.\n",
        "\n",
        " * It is possible that multiple instances of objects co-exist without any interference,\n",
        "\n",
        " * It is very easy to partition the work in a project based on objects.\n",
        "\n",
        " * It is possible to map the objects in problem domain to those in the program.\n",
        "\n",
        " * The principle of data hiding helps the programmer to build secure programs which cannot be invaded by the code in other parts of the program.\n",
        "\n",
        " * By using inheritance, we can eliminate redundant code and extend the use of existing classes.\n",
        "\n",
        " * Message passing techniques is used for communication between objects which makes the interface descriptions with external systems much simpler.\n",
        "\n",
        " * The data-centered design approach enables us to capture more details of model in an implementable form.\n",
        "\n",
        "Que 17 What is the difference between a class variable and an instance variable.\n",
        "\n",
        "Ans : Instance Variable: It is basically a class variable without a static modifier and is usually shared by all class instances. Across different objects, these variables can have different values. They are tied to a particular object instance of the class, therefore, the contents of an instance variable are totally independent of one object instance to other\n",
        "\n",
        "Class Variable: It is basically a static variable that can be declared anywhere at class level with static. Across different objects, these variables can have only one value. These variables are not tied to any particular object of the class, therefore, can share across all objects of the class.\n",
        "\n",
        "Que.18 What is multiple inheritance in Python.\n",
        "\n",
        "Ans Multiple inheritance is a feature in Python that allows a class to inherit attributes and methods from more than one parent class. This can be useful for creating complex relationships among classes and reusing code efficiently.\n",
        "\n",
        "Syntax and Example\n",
        "\n",
        "The syntax for multiple inheritance in Python is straightforward. You simply list the parent classes in parentheses after the class name:\n",
        "\n",
        "class Parent1:\n",
        "def display1(self):\n",
        "print(\"In class Parent1\")\n",
        "\n",
        "class Parent2:\n",
        "def display2(self):\n",
        "print(\"In class Parent2\")\n",
        "\n",
        "class Child(Parent1, Parent2):\n",
        "pass\n",
        "\n",
        "# Create an object of Child class\n",
        "obj = Child()\n",
        "obj.display1()\n",
        "obj.display2()\n",
        "\n",
        "Que.19  Explain the purpose of ‘’__str__’ and ‘__repr__’ ‘ methods in Python\n",
        "\n",
        "Ans. n Python, the str() and repr() functions are used to obtain string representations of objects. While they may seem similar at first glance, there are some differences in how they behave. Both of the functions can be helpful in debugging or printing useful information about the object.\n",
        "\n",
        "Python str()\n",
        "In the given example, we are using the str() function on a string and floating values in Python.\n",
        "\n",
        "\n",
        "s = 'Hello, world.'\n",
        "print (str(s))\n",
        "print (str(2.0/11.0))\n",
        "Output:\n",
        "\n",
        "Hello, world.\n",
        "\n",
        "Python repr()\n",
        "In the given example, we are using the repr() function on a string and floating values in Python.\n",
        "\n",
        "s = 'Hello, world.'\n",
        "print (repr(s))\n",
        "print (repr(2.0/11.0))\n",
        "Output:\n",
        "\n",
        "'Hello, Geeks.'\n",
        "0.18181818181818182\n",
        "\n",
        "Que 20  What is the significance of the ‘super()’ function in Python\n",
        "\n",
        "Ans n Python, the super() function is used to refer to the parent class or superclass. It allows you to call methods defined in the superclass from the subclass, enabling you to extend and customize the functionality inherited from the parent class.\n",
        "\n",
        "Syntax of super() in Python\n",
        "Syntax: super()\n",
        "\n",
        "Benefits of Super Function:\n",
        "\n",
        " * Need not remember or specify the parent class name to access its methods. This function can be used both in single and multiple inheritances.\n",
        " * This implements modularity (isolating changes) and code reusability as there is no need to rewrite the entire function.\n",
        " * The super function in Python is called dynamically because Python is a dynamic language, unlike other languages.\n",
        "\n",
        " Que 21  What is the significance of the __del__ method in Python\n",
        "\n",
        " Ans\n",
        "The __del__ method is a special method in Python that is called when an object is about to be destroyed. It allows you to define specific cleanup actions that should be taken when an object is garbage collected. This method can be particularly useful for releasing external resources such as file handles, network connections, or database connections that the object may hold.\n",
        "\n",
        "Advantages of Using the __del__ Method:\n",
        "\n",
        " * Automatic Resource Cleanup: The __del__ method helps ensure that resources such as file handles, network connections, and database connections are released automatically when an object is destroyed. This can prevent resource leaks and enhance the stability of your applications.\n",
        " * Simplified Code: By embedding cleanup logic within the __del__ method, you can simplify your code. This encapsulates resource management within the object itself, making the code more readable and maintainable.\n",
        " * Error Handling: The __del__ method can provide a fallback mechanism for resource cleanup, ensuring that resources are released even if an error occurs during the object's lifecycle.\n",
        " * Convenience: For temporary objects or those with short lifespans, using the __del__ method can be more convenient than explicitly managing resource cleanup elsewhere in your code.\n",
        "\n",
        "Que 22 What is the difference between @staticmethod and @classmethod in Python\n",
        "\n",
        "Ans Class method vs Static Method:\n",
        "\n",
        "The difference between the Class method and the static method is:\n",
        " * A class method takes cls as the first parameter while a static method needs no specific parameters.\n",
        " * A class method can access or modify the class state while a static method can’t access or modify it.\n",
        " * In general, static methods know nothing about the class state. They are utility-type methods that take some parameters and work upon those parameters. On the other hand class methods must have class as a parameter.\n",
        " * We use @classmethod decorator in python to create a class method and we use @staticmethod decorator to create a static method in python.\n",
        "\n",
        " When to use the class or static method:\n",
        "\n",
        " * We generally use the class method to create factory methods. Factory methods return class objects ( similar to a constructor ) for different use cases.\n",
        " * We generally use static methods to create utility functions.\n",
        "\n",
        "Que 23 F How does polymorphism work in Python with inheritance\n",
        "\n",
        "Ans Inheritance-based polymorphism occurs when a subclass overrides a method from its parent class, providing a specific implementation. This process of re-implementing a method in the child class is known as Method Overriding.  \n",
        "\n",
        "Example:\n",
        "\n",
        "class Animal:\n",
        "\n",
        "    def sound(self):\n",
        "        return \"Some generic animal sound\"\n",
        "\n",
        "class Dog(Animal):\n",
        "\n",
        "    def sound(self):\n",
        "        return \"Bark\"\n",
        "\n",
        "class Cat(Animal):\n",
        "\n",
        "    def sound(self):\n",
        "        return \"Meow\n",
        "Explanation:\n",
        "\n",
        "Class Animal: Acts as the base (parent) class. Contains a method sound that provides a default behavior, returning “Some generic animal sound”. This serves as a generic representation of the sound method for all animals.\n",
        "Class Dog: Inherits from the Animal class (denoted by class Dog(Animal)). Overrides the sound method to return “Woof Woof!”, a behavior specific to dogs. This demonstrates method overriding, where the subclass modifies the implementation of the parent class’s method.\n",
        "Class Cat: Inherits from the Animal class (denoted by class Cat(Animal)). Overrides the sound method to return “Meow”, a behavior specific to cats. Like Dog, this also demonstrates method overriding.\n",
        "\n",
        "Que 24 What is method chaining in Python OOP\n",
        "\n",
        "Ans Method chaining is a powerful technique in Python programming that allows us to call multiple methods on an object in a single, continuous line of code. This approach makes the code cleaner, more readable, and often easier to maintain. It is frequently used in data processing, object-oriented programming, and frameworks such as Pandas, Django ORM, and Flask.\n",
        "\n",
        "For example:\n",
        "text = \" hello,world! \"\n",
        "\n",
        "result = text.strip().capitalize().replace(\"world\", \"Reena\")\n",
        "\n",
        "print(result)\n",
        "output:\"hello,Reena\"\n",
        "\n",
        "Que.25 What is the purpose of the __call__ method in Python\n",
        "\n",
        "Ans Python has a set of built-in methods and\n",
        "\n",
        "__call__\n",
        "\n",
        "is one of them. The\n",
        "\n",
        "__call__\n",
        "\n",
        "method enables Python programmers to write classes where the instances behave like functions and can be called like a function. When the instance is called as a function; if this method is defined,\n",
        "\n",
        "x(arg1, arg2, ...)\n",
        "\n",
        "is a shorthand for\n",
        "\n",
        "x.__call__(arg1, arg2, ...)\n",
        "\n",
        "\n",
        "Practical Questions:\n",
        "\n",
        "Que.1 . Create a parent class Animal with a method speak() that prints a generic message. Create a child class Dog\n",
        "that overrides the speak() method to print \"Bark!\"\n"
      ],
      "metadata": {
        "id": "oR5m_D1EDNqU"
      }
    },
    {
      "cell_type": "code",
      "source": [
        "class Animal:\n",
        "    def __init__(self, name):\n",
        "        self.name = name\n",
        "\n",
        "    def speak(self):\n",
        "        pass\n",
        "\n",
        "class Dog(Animal):\n",
        "    def speak(self):\n",
        "        return f\"{self.name} barks!\"\n",
        "\n",
        "dog = Dog(\"barks\")\n",
        "print(dog.speak())"
      ],
      "metadata": {
        "colab": {
          "base_uri": "https://localhost:8080/"
        },
        "id": "Wusa1_VgXhsk",
        "outputId": "e89ed06c-884d-4b96-e7c0-606a01d8034d"
      },
      "execution_count": null,
      "outputs": [
        {
          "output_type": "stream",
          "name": "stdout",
          "text": [
            "barks barks!\n"
          ]
        }
      ]
    },
    {
      "cell_type": "markdown",
      "source": [
        "Que.2  Write a program to create an abstract class Shape with a method area(). Derive classes Circle and Rectangle\n",
        "from it and implement the area() method in both"
      ],
      "metadata": {
        "id": "WRbUYpIbTNls"
      }
    },
    {
      "cell_type": "code",
      "source": [
        "from abc import ABC, abstractmethod\n",
        "import math\n",
        "class Shape(ABC):\n",
        "    @abstractmethod\n",
        "    def area(self):\n",
        "        pass\n",
        "class Circle(Shape):\n",
        "    def __init__(self, radius):\n",
        "        self.radius = radius\n",
        "\n",
        "    def area(self):\n",
        "        return math.pi * (self.radius ** 2)\n",
        "class Rectangle(Shape):\n",
        "    def __init__(self, width, height):\n",
        "        self.width = width\n",
        "        self.height = height\n",
        "\n",
        "    def area(self):\n",
        "        return self.width * self.height\n",
        "circle = Circle(5)\n",
        "rectangle = Rectangle(4, 6)\n",
        "\n",
        "print(f\"Area of the circle: {circle.area()}\")\n",
        "print(f\"Area of the rectangle: {rectangle.area()}\")"
      ],
      "metadata": {
        "colab": {
          "base_uri": "https://localhost:8080/"
        },
        "id": "2pGmKc5GTTJQ",
        "outputId": "100dd5f0-ad8a-4ec5-e9c7-82aaa3590181"
      },
      "execution_count": null,
      "outputs": [
        {
          "output_type": "stream",
          "name": "stdout",
          "text": [
            "Area of the circle: 78.53981633974483\n",
            "Area of the rectangle: 24\n"
          ]
        }
      ]
    },
    {
      "cell_type": "code",
      "source": [],
      "metadata": {
        "id": "4l6npQ9TTbdc"
      },
      "execution_count": null,
      "outputs": []
    },
    {
      "cell_type": "markdown",
      "source": [
        "Que. 3. Implement a multi-level inheritance scenario where a class Vehicle has an attribute type. Derive a class Car\n",
        "and further derive a class ElectricCar that adds a battery attribute"
      ],
      "metadata": {
        "id": "muprU_2OT5Pb"
      }
    },
    {
      "cell_type": "code",
      "source": [
        "class Vehicle:\n",
        "    def __init__(self, vehicle_type):\n",
        "        self.vehicle_type = vehicle_type\n",
        "\n",
        "class Car(Vehicle):\n",
        "    def __init__(self, vehicle_type, brand, model):\n",
        "        super().__init__(vehicle_type)\n",
        "        self.brand = brand\n",
        "        self.model = model\n",
        "\n",
        "class ElectricCar(Car):\n",
        "    def __init__(self, vehicle_type, brand, model, battery_capacity):\n",
        "        super().__init__(vehicle_type, brand, model)\n",
        "        self.battery_capacity = battery_capacity\n",
        "\n",
        "#i'm using `\\n` to print all the details in new line\n",
        "    def display_info(self):\n",
        "        return (f\"Type: {self.vehicle_type},\\nBrand: {self.brand},\\nModel: {self.model}, \"\n",
        "                f\"\\nBattery Capacity: {self.battery_capacity} kWh\")\n",
        "\n",
        "electric_car = ElectricCar(\"Electric\", \"Tesla\", \"Model S\", 100)\n",
        "\n",
        "print(electric_car.display_info())"
      ],
      "metadata": {
        "colab": {
          "base_uri": "https://localhost:8080/"
        },
        "id": "EoA6mHwLF1g4",
        "outputId": "21c3d15f-7ff3-4b2d-dbae-cf898ccd51e0"
      },
      "execution_count": null,
      "outputs": [
        {
          "output_type": "stream",
          "name": "stdout",
          "text": [
            "Type: Electric,\n",
            "Brand: Tesla,\n",
            "Model: Model S, \n",
            "Battery Capacity: 100 kWh\n"
          ]
        }
      ]
    },
    {
      "cell_type": "markdown",
      "source": [
        "Que 4 . 5. Write a program to demonstrate encapsulation by creating a class BankAccount with private attributes\n",
        "balance and methods to deposit, withdraw, and check balance"
      ],
      "metadata": {
        "id": "k-I2szF2YRq-"
      }
    },
    {
      "cell_type": "code",
      "source": [
        "class Bank_Account:\n",
        "    def __init__(self):\n",
        "        self.balance=0\n",
        "        print(\"Hello!!! Welcome to the Deposit & Withdrawal Machine\")\n",
        "\n",
        "    def deposit(self):\n",
        "        amount=float(input(\"Enter amount to be Deposited: \"))\n",
        "        self.balance += amount\n",
        "        print(\"\\n Amount Deposited:\",amount)\n",
        "\n",
        "    def withdraw(self):\n",
        "        amount = float(input(\"Enter amount to be Withdrawn: \"))\n",
        "        if self.balance>=amount:\n",
        "            self.balance-=amount\n",
        "            print(\"\\n You Withdrew:\", amount)\n",
        "        else:\n",
        "            print(\"\\n Insufficient balance  \")\n",
        "\n",
        "    def display(self):\n",
        "        print(\"\\n Net Available Balance=\",self.balance)\n",
        "\n",
        "s = Bank_Account()\n",
        "s.deposit()\n",
        "s.withdraw()\n",
        "s.display()"
      ],
      "metadata": {
        "colab": {
          "base_uri": "https://localhost:8080/"
        },
        "id": "KXogixPXY7cl",
        "outputId": "238222e7-566a-4eed-b8cb-ba53e51b583d"
      },
      "execution_count": null,
      "outputs": [
        {
          "output_type": "stream",
          "name": "stdout",
          "text": [
            "Hello!!! Welcome to the Deposit & Withdrawal Machine\n",
            "Enter amount to be Deposited: 1000\n",
            "\n",
            " Amount Deposited: 1000.0\n",
            "Enter amount to be Withdrawn: 500\n",
            "\n",
            " You Withdrew: 500.0\n",
            "\n",
            " Net Available Balance= 500.0\n"
          ]
        }
      ]
    },
    {
      "cell_type": "markdown",
      "source": [
        "Que.6 . Demonstrate runtime polymorphism using a method play() in a base class Instrument. Derive classes Guitar\n",
        "and Piano that implement their own version of play()"
      ],
      "metadata": {
        "id": "5Bumr_10afR3"
      }
    },
    {
      "cell_type": "code",
      "source": [
        "class Instrument:\n",
        "    def play(self):\n",
        "        raise NotImplementedError(\"Subclass must implement abstract method\")\n",
        "class Guitar(Instrument):\n",
        "    def play(self):\n",
        "        print(\"Playing the guitar\")\n",
        "\n",
        "class Piano(Instrument):\n",
        "    def play(self):\n",
        "        print(\"Playing the piano\")\n",
        "def play_instrument(instrument: Instrument):\n",
        "    instrument.play()\n",
        "\n",
        "guitar = Guitar()\n",
        "piano = Piano()\n",
        "\n",
        "play_instrument(guitar)\n",
        "play_instrument(piano)"
      ],
      "metadata": {
        "id": "CgpGyLAuasg2",
        "colab": {
          "base_uri": "https://localhost:8080/"
        },
        "outputId": "20909a06-632d-4bae-9cfc-146b849a1fc5"
      },
      "execution_count": null,
      "outputs": [
        {
          "output_type": "stream",
          "name": "stdout",
          "text": [
            "Playing the guitar\n",
            "Playing the piano\n"
          ]
        }
      ]
    },
    {
      "cell_type": "markdown",
      "source": [
        "Que.7  Create a class MathOperations with a class method add_numbers() to add two numbers and a static\n",
        "method subtract_numbers() to subtract two numbers"
      ],
      "metadata": {
        "id": "i2w2Rt0GbFPU"
      }
    },
    {
      "cell_type": "code",
      "source": [
        "class MathOperations:\n",
        "    @classmethod\n",
        "    def add_numbers(cls, a, b):\n",
        "        return a + b\n",
        "\n",
        "    @staticmethod\n",
        "    def subtract_numbers(a, b):\n",
        "        return a - b\n",
        "result_add = MathOperations.add_numbers(10, 5)\n",
        "print(f\"Addition Result: {result_add}\")\n",
        "result_subtract = MathOperations.subtract_numbers(10, 5)\n",
        "print(f\"Subtraction Result: {result_subtract}\")"
      ],
      "metadata": {
        "colab": {
          "base_uri": "https://localhost:8080/"
        },
        "id": "kyln_0aIbLIN",
        "outputId": "8ca3748e-e677-4143-caa5-c47201b1d1e5"
      },
      "execution_count": null,
      "outputs": [
        {
          "output_type": "stream",
          "name": "stdout",
          "text": [
            "Addition Result: 15\n",
            "Subtraction Result: 5\n"
          ]
        }
      ]
    },
    {
      "cell_type": "markdown",
      "source": [
        "Que.8 Implement a class Person with a class method to count the total number of persons created"
      ],
      "metadata": {
        "id": "fGBdUg23bgfd"
      }
    },
    {
      "cell_type": "code",
      "source": [
        "class Person:\n",
        "    _count = 0\n",
        "\n",
        "    def __init__(self, name):\n",
        "        self.name = name\n",
        "        Person._count += 1\n",
        "\n",
        "    @classmethod\n",
        "    def get_count(cls):\n",
        "        return cls._count\n",
        "p1 = Person(\"Reena\")\n",
        "p2 = Person(\"Mausam\")\n",
        "p3 = Person(\"Preety\")\n",
        "\n",
        "print(\"Total number of persons created:\", Person.get_count())"
      ],
      "metadata": {
        "colab": {
          "base_uri": "https://localhost:8080/"
        },
        "id": "9REbX31tbn2x",
        "outputId": "8c4a85a8-a92c-4b28-9ab2-a4b2fd6556dc"
      },
      "execution_count": null,
      "outputs": [
        {
          "output_type": "stream",
          "name": "stdout",
          "text": [
            "Total number of persons created: 3\n"
          ]
        }
      ]
    },
    {
      "cell_type": "markdown",
      "source": [
        "Que.9  Write a class Fraction with attributes numerator and denominator. Override the str method to display the\n",
        "fraction as \"numerator/denominator\""
      ],
      "metadata": {
        "id": "h86HOeotcH5U"
      }
    },
    {
      "cell_type": "code",
      "source": [
        "class Fraction:\n",
        "    def __init__(self, numerator, denominator):\n",
        "        self.numerator = numerator\n",
        "        self.denominator = denominator\n",
        "\n",
        "    def __str__(self):\n",
        "        return f\"{self.numerator}/{self.denominator}\"\n",
        "fraction = Fraction(3, 4)\n",
        "print(fraction)"
      ],
      "metadata": {
        "colab": {
          "base_uri": "https://localhost:8080/"
        },
        "id": "N6hza1uOcOGw",
        "outputId": "b4554457-fe09-4c12-cbaa-c8cff3b22dbb"
      },
      "execution_count": null,
      "outputs": [
        {
          "output_type": "stream",
          "name": "stdout",
          "text": [
            "3/4\n"
          ]
        }
      ]
    },
    {
      "cell_type": "markdown",
      "source": [
        "Que.10 0. Demonstrate operator overloading by creating a class Vector and overriding the add method to add two\n",
        "vectors"
      ],
      "metadata": {
        "id": "_T_80MwTceqL"
      }
    },
    {
      "cell_type": "code",
      "source": [
        "class Vector:\n",
        "    def __init__(self, x, y):\n",
        "        self.x = x\n",
        "        self.y = y\n",
        "\n",
        "    def __add__(self, other):\n",
        "        if isinstance(other, Vector):\n",
        "            return Vector(self.x + other.x, self.y + other.y)\n",
        "        return NotImplemented\n",
        "\n",
        "    def __repr__(self):\n",
        "        return f\"Vector({self.x}, {self.y})\"\n",
        "v1 = Vector(2, 3)\n",
        "v2 = Vector(4, 5)\n",
        "v3 = v1 + v2\n",
        "\n",
        "print(v3)  # Output: Vector(6, 8)"
      ],
      "metadata": {
        "colab": {
          "base_uri": "https://localhost:8080/"
        },
        "id": "7DsiI4zNckj8",
        "outputId": "ef69433a-ab9d-4f2e-c814-dcdfd8df4f5a"
      },
      "execution_count": null,
      "outputs": [
        {
          "output_type": "stream",
          "name": "stdout",
          "text": [
            "Vector(6, 8)\n"
          ]
        }
      ]
    },
    {
      "cell_type": "markdown",
      "source": [
        "Que.11. Create a class Person with attributes name and age. Add a method greet() that prints \"Hello, my name is\n",
        "{name} and I am {age} years old."
      ],
      "metadata": {
        "id": "247Hr8Q5c8Vs"
      }
    },
    {
      "cell_type": "code",
      "source": [
        "class Person:\n",
        "    def __init__(self, name, age):\n",
        "        self.name = name\n",
        "        self.age = age\n",
        "\n",
        "    def greet(self):\n",
        "        return f\"Hello, my name is {self.name} and I'm {self.age} years old.\"\n",
        "person1 = Person(\"Reena\", 32)\n",
        "print(person1.greet())"
      ],
      "metadata": {
        "colab": {
          "base_uri": "https://localhost:8080/"
        },
        "id": "EuzOfbvjdA1w",
        "outputId": "3948e6ff-86ca-40de-f11c-3a58c7a5c36c"
      },
      "execution_count": null,
      "outputs": [
        {
          "output_type": "stream",
          "name": "stdout",
          "text": [
            "Hello, my name is Reena and I'm 32 years old.\n"
          ]
        }
      ]
    },
    {
      "cell_type": "markdown",
      "source": [
        "Que.12 2. Implement a class Student with attributes name and grades. Create a method average_grade() to compute\n",
        "the average of the grades."
      ],
      "metadata": {
        "id": "0lsR_YF5d7PK"
      }
    },
    {
      "cell_type": "code",
      "source": [
        "class Student:\n",
        "    def __init__(self, name, grades):\n",
        "        self.name = name\n",
        "        self.grades = grades\n",
        "\n",
        "    def average_grade(self):\n",
        "        if not self.grades:\n",
        "            return 0\n",
        "        return sum(self.grades) / len(self.grades)\n",
        "student = Student(\"Ashish\", [85, 90, 78, 92])\n",
        "print(f\"{student.name}'s average grade is: {student.average_grade()}\")"
      ],
      "metadata": {
        "colab": {
          "base_uri": "https://localhost:8080/"
        },
        "id": "J2WoDAnEeAIu",
        "outputId": "f1eb6152-32b0-40d4-af62-369d63dd0cda"
      },
      "execution_count": null,
      "outputs": [
        {
          "output_type": "stream",
          "name": "stdout",
          "text": [
            "Ashish's average grade is: 86.25\n"
          ]
        }
      ]
    },
    {
      "cell_type": "markdown",
      "source": [
        "Que.13. Create a class Rectangle with methods set_dimensions() to set the dimensions and area() to calculate the area"
      ],
      "metadata": {
        "id": "3HGhOAu6eSvr"
      }
    },
    {
      "cell_type": "code",
      "source": [
        "class Rectangle:\n",
        "    def __init__(self):\n",
        "        self.length = 0\n",
        "        self.width = 0\n",
        "\n",
        "    def set_dimensions(self, length, width):\n",
        "        self.length = length\n",
        "        self.width = width\n",
        "\n",
        "    def area(self):\n",
        "        return self.length * self.width\n",
        "rect = Rectangle()\n",
        "rect.set_dimensions(5, 3)\n",
        "print(\"The area of the rectangle is:\", rect.area())"
      ],
      "metadata": {
        "colab": {
          "base_uri": "https://localhost:8080/"
        },
        "id": "wB4GLnJjecK2",
        "outputId": "b328615b-17ae-4e05-86c4-bb82d3041feb"
      },
      "execution_count": null,
      "outputs": [
        {
          "output_type": "stream",
          "name": "stdout",
          "text": [
            "The area of the rectangle is: 15\n"
          ]
        }
      ]
    },
    {
      "cell_type": "markdown",
      "source": [
        "Que 14 4. Create a class Employee with a method calculate_salary() that computes the salary based on hours worked\n",
        "and hourly rate. Create a derived class Manager that adds a bonus to the salary"
      ],
      "metadata": {
        "id": "P8erE_Ppescp"
      }
    },
    {
      "cell_type": "code",
      "source": [
        "class Employee:\n",
        "    def __init__(self, name, hours_worked, hourly_rate):\n",
        "        self.name = name\n",
        "        self.hours_worked = hours_worked\n",
        "        self.hourly_rate = hourly_rate\n",
        "\n",
        "    def calculate_salary(self):\n",
        "        return self.hours_worked * self.hourly_rate\n",
        "\n",
        "class Manager(Employee):\n",
        "    def __init__(self, name, hours_worked, hourly_rate, bonus):\n",
        "        super().__init__(name, hours_worked, hourly_rate)\n",
        "        self.bonus = bonus\n",
        "\n",
        "    def calculate_salary(self):\n",
        "        base_salary = super().calculate_salary()\n",
        "        return base_salary + self.bonus\n",
        "employee = Employee(\"John Doe\", 40, 50)\n",
        "manager = Manager(\"Jane Smith\", 40, 50, 500)\n",
        "\n",
        "print(f\"Employee Salary: {employee.calculate_salary()}\")\n",
        "print(f\"Manager Salary: {manager.calculate_salary()}\")"
      ],
      "metadata": {
        "id": "vHiodc_-eyEK",
        "colab": {
          "base_uri": "https://localhost:8080/"
        },
        "outputId": "705f2672-77e8-4276-99da-6572e586eb8a"
      },
      "execution_count": null,
      "outputs": [
        {
          "output_type": "stream",
          "name": "stdout",
          "text": [
            "Employee Salary: 2000\n",
            "Manager Salary: 2500\n"
          ]
        }
      ]
    },
    {
      "cell_type": "markdown",
      "source": [
        "Que. 15  Create a class Product with attributes name, price, and quantity. Implement a method total_price() that\n",
        "calculates the total price of the product"
      ],
      "metadata": {
        "id": "4G9gaPAmFb_a"
      }
    },
    {
      "cell_type": "code",
      "source": [
        "class Product:\n",
        "    def __init__(self, name, price, quantity):\n",
        "        self.name = name\n",
        "        self.price = price\n",
        "        self.quantity = quantity\n",
        "\n",
        "    def total_price(self):\n",
        "        return self.price * self.quantity\n",
        "product = Product(\"Laptop\", 75000, 2)\n",
        "print(f\"Total price for {product.name}: ₹{product.total_price()}\")"
      ],
      "metadata": {
        "colab": {
          "base_uri": "https://localhost:8080/"
        },
        "id": "EdP7ciVCFhlu",
        "outputId": "fb3db710-3f95-4081-9b23-e12e0c456767"
      },
      "execution_count": null,
      "outputs": [
        {
          "output_type": "stream",
          "name": "stdout",
          "text": [
            "Total price for Laptop: ₹150000\n"
          ]
        }
      ]
    },
    {
      "cell_type": "markdown",
      "source": [
        "Que.16  Create a class Animal with an abstract method sound(). Create two derived classes Cow and Sheep that\n",
        "implement the sound() method"
      ],
      "metadata": {
        "id": "t4dLvyWcFzNK"
      }
    },
    {
      "cell_type": "code",
      "source": [
        "from abc import ABC, abstractmethod\n",
        "\n",
        "class Animal(ABC):\n",
        "    @abstractmethod\n",
        "    def sound(self):\n",
        "        pass\n",
        "\n",
        "class Cow(Animal):\n",
        "    def sound(self):\n",
        "        return \"Moo\"\n",
        "\n",
        "class Sheep(Animal):\n",
        "    def sound(self):\n",
        "        return \"Baa\"\n",
        "\n",
        "# Example usage:\n",
        "cow = Cow()\n",
        "sheep = Sheep()\n",
        "\n",
        "print(f\"The cow says: {cow.sound()}\")\n",
        "print(f\"The sheep says: {sheep.sound()}\")"
      ],
      "metadata": {
        "colab": {
          "base_uri": "https://localhost:8080/"
        },
        "id": "6wNCezSoF6XC",
        "outputId": "c265fa62-685f-47d2-9831-224f25aeb1ef"
      },
      "execution_count": null,
      "outputs": [
        {
          "output_type": "stream",
          "name": "stdout",
          "text": [
            "The cow says: Moo\n",
            "The sheep says: Baa\n"
          ]
        }
      ]
    },
    {
      "cell_type": "markdown",
      "source": [
        "Que 17 Create a class Book with attributes title, author, and year_published. Add a method get_book_info() that\n",
        "returns a formatted string with the book's details"
      ],
      "metadata": {
        "id": "t6NCM_cWGKnp"
      }
    },
    {
      "cell_type": "code",
      "source": [
        "class Book():\n",
        "    def __init__(self, title = \"\", author = \"\", year = None):\n",
        "        self.title = title\n",
        "        self.author = author\n",
        "        self.year = year\n",
        "    def getTitle(self):\n",
        "        return self.title\n",
        "    def getAuthor(self):\n",
        "        return self.author\n",
        "    def getYear(self):\n",
        "        return self.year\n",
        "    def getBookDetails(self):\n",
        "        string = (\"Title: {}, Author: {}, Year: {}\"\\\n",
        "                     .format(self.title, self.author, self.year))\n",
        "        return string\n",
        "        print(\"Book\"(\"Rage\", \"King, Stephen\", 1977)\n"
      ],
      "metadata": {
        "colab": {
          "base_uri": "https://localhost:8080/",
          "height": 106
        },
        "id": "_CcnMygmGPae",
        "outputId": "575fbd54-9f21-42d5-bc21-3e85558a62b3"
      },
      "execution_count": null,
      "outputs": [
        {
          "output_type": "error",
          "ename": "SyntaxError",
          "evalue": "incomplete input (<ipython-input-7-9c2b115f76a5>, line 16)",
          "traceback": [
            "\u001b[0;36m  File \u001b[0;32m\"<ipython-input-7-9c2b115f76a5>\"\u001b[0;36m, line \u001b[0;32m16\u001b[0m\n\u001b[0;31m    print(\"Book\"(\"Rage\", \"King, Stephen\", 1977)\u001b[0m\n\u001b[0m                                               ^\u001b[0m\n\u001b[0;31mSyntaxError\u001b[0m\u001b[0;31m:\u001b[0m incomplete input\n"
          ]
        }
      ]
    },
    {
      "cell_type": "markdown",
      "source": [
        "Que 18 Create a class House with attributes address and price. Create a derived class Mansion that adds an\n",
        "attribute number_of_rooms."
      ],
      "metadata": {
        "id": "cVZA8m_xHD7Q"
      }
    },
    {
      "cell_type": "code",
      "source": [
        "class House:\n",
        "    def __init__(self, address, price):\n",
        "        self.address = address\n",
        "        self.price = price\n",
        "\n",
        "    def __str__(self):\n",
        "        return f\"House located at {self.address} priced at {self.price}\"\n",
        "\n",
        "class Mansion(House):\n",
        "    def __init__(self, address, price, number_of_rooms):\n",
        "        super().__init__(address, price)\n",
        "        self.number_of_rooms = number_of_rooms\n",
        "\n",
        "    def __str__(self):\n",
        "        return f\"Mansion located at {self.address} priced at {self.price} with {self.number_of_rooms} rooms\"\n",
        "house = House(\"123 Main St\", 500000)\n",
        "mansion = Mansion(\"456 Luxury Ave\", 2000000, 10)\n",
        "\n",
        "print(house)\n",
        "print(mansion)"
      ],
      "metadata": {
        "colab": {
          "base_uri": "https://localhost:8080/"
        },
        "id": "LsuOT9jNHK7r",
        "outputId": "fe22b679-f03f-4fae-fd5f-31db6ce2bc9f"
      },
      "execution_count": null,
      "outputs": [
        {
          "output_type": "stream",
          "name": "stdout",
          "text": [
            "House located at 123 Main St priced at 500000\n",
            "Mansion located at 456 Luxury Ave priced at 2000000 with 10 rooms\n"
          ]
        }
      ]
    },
    {
      "cell_type": "code",
      "source": [],
      "metadata": {
        "id": "segc4aR5eY7x"
      },
      "execution_count": null,
      "outputs": []
    },
    {
      "cell_type": "code",
      "source": [],
      "metadata": {
        "id": "HItvQ9xSapD0"
      },
      "execution_count": null,
      "outputs": []
    },
    {
      "cell_type": "code",
      "source": [],
      "metadata": {
        "id": "f-PhL7jUYWcx"
      },
      "execution_count": null,
      "outputs": []
    },
    {
      "cell_type": "markdown",
      "source": [],
      "metadata": {
        "id": "1pGoeou2adeo"
      }
    }
  ]
}